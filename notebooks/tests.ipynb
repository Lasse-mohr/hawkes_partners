{
 "cells": [
  {
   "cell_type": "code",
   "execution_count": 1,
   "metadata": {},
   "outputs": [],
   "source": [
    "# change pwd to parent directory\n",
    "import os\n",
    "\n",
    "cwd = os.getcwd()\n",
    "os.chdir(os.path.dirname(cwd))"
   ]
  },
  {
   "cell_type": "code",
   "execution_count": 2,
   "metadata": {},
   "outputs": [],
   "source": [
    "import numpy as np\n",
    "from scipy.special import expit\n",
    "from src.self_exciting.hawkes_regression import SelfExcitingLogisticRegressionWithGrad as SELR"
   ]
  },
  {
   "cell_type": "code",
   "execution_count": 3,
   "metadata": {},
   "outputs": [],
   "source": [
    "# Set random seed for reproducibility\n",
    "rng = np.random.default_rng(seed=42)\n",
    "\n",
    "# Parameters for synthetic data generation\n",
    "n_individuals = int(10**3)  # Number of individuals\n",
    "max_events_per_individual = 10 # Maximum number of events per individual\n",
    "total_events = n_individuals * max_events_per_individual  # Approximate total events\n",
    "\n",
    "# Generate synthetic data\n",
    "individuals = np.repeat(np.arange(n_individuals), max_events_per_individual)\n",
    "n_events_per_individual = rng.integers(1, max_events_per_individual, size=n_individuals)"
   ]
  },
  {
   "cell_type": "code",
   "execution_count": 4,
   "metadata": {},
   "outputs": [],
   "source": [
    "# Generate synthetic partner change events\n",
    "true_alpha, true_gamma, true_beta_c, true_delta_c, true_beta_s, true_delta_s = (\n",
    "    -3,\n",
    "    [0.01, -0.05, 0.03],\n",
    "    0,\n",
    "    0,\n",
    "    0,\n",
    "    0\n",
    ")"
   ]
  },
  {
   "cell_type": "code",
   "execution_count": 5,
   "metadata": {},
   "outputs": [],
   "source": [
    "continuous_time = []\n",
    "discrete_time = []\n",
    "events = []\n",
    "covariates = []\n",
    "\n",
    "# Generate synthetic data for each individual\n",
    "for i, n_events in enumerate(n_events_per_individual):\n",
    "    # Generate continuous and discrete times for this individual\n",
    "    continuous_times = np.sort(rng.uniform(0, 10, n_events))\n",
    "    discrete_times = np.arange(1, n_events + 1)\n",
    "\n",
    "    # Generate covariates for this individual\n",
    "    age = rng.uniform(20, 50, n_events).reshape(-1, 1)\n",
    "    sex = rng.choice([0, 1], size=n_events).reshape(-1, 1)\n",
    "    cum_partner_count = rng.choice(np.arange(1, 10), size=n_events).reshape(-1, 1)\n",
    "    covariates_individual = np.hstack([age, sex, cum_partner_count])\n",
    "\n",
    "    s = np.zeros(n_events)\n",
    "    c = np.zeros(n_events)\n",
    "\n",
    "    for j in range(1, n_events):\n",
    "        discrete_diff = discrete_times[j] - discrete_times[:j]\n",
    "        continuous_diff = continuous_times[j] - continuous_times[:j]\n",
    "        s[j] = np.sum(np.exp(-true_delta_s * discrete_diff) * rng.choice([0, 1], size=j))\n",
    "        c[j] = np.sum(np.exp(-true_delta_c * continuous_diff) * rng.choice([0, 1], size=j))\n",
    "\n",
    "    # Define the linear predictor for this individual\n",
    "    linear_pred = (\n",
    "        true_alpha\n",
    "        + true_beta_s * s\n",
    "        + true_beta_c * c\n",
    "        + np.dot(covariates_individual, true_gamma)\n",
    "        + 0.02 * age.ravel()\n",
    "        - 0.0005 * (age.ravel() - 35) ** 2  # Non-monotonic effect of age\n",
    "    )\n",
    "\n",
    "    # Compute probabilities and generate binary events\n",
    "    probs = expit(linear_pred)\n",
    "    events_individual = rng.binomial(1, probs)\n",
    "\n",
    "    # Store this individual's data\n",
    "    continuous_time.append(continuous_times)\n",
    "    discrete_time.append(discrete_times)\n",
    "    events.append(events_individual)\n",
    "    covariates.append(covariates_individual)"
   ]
  },
  {
   "cell_type": "code",
   "execution_count": 6,
   "metadata": {},
   "outputs": [
    {
     "name": "stdout",
     "output_type": "stream",
     "text": [
      "Proportion of nonzero events: 0.13272402145837472\n"
     ]
    }
   ],
   "source": [
    "# Combine all individuals' data\n",
    "continuous_time = np.concatenate(continuous_time)\n",
    "discrete_time = np.concatenate(discrete_time)\n",
    "events = np.concatenate(events)\n",
    "\n",
    "print(f'Proportion of nonzero events: {np.sum(events)/len(events)}')\n",
    "\n",
    "covariates = np.vstack(covariates)\n",
    "covariates = (covariates - covariates.mean(axis=0)) / covariates.std(axis=0)\n",
    "\n",
    "individuals = np.repeat(np.arange(n_individuals), max_events_per_individual)[: len(continuous_time)]\n",
    "\n",
    "# Combine continuous and discrete times into a 2xN array\n",
    "times = np.vstack([continuous_time, discrete_time])"
   ]
  },
  {
   "cell_type": "code",
   "execution_count": 7,
   "metadata": {},
   "outputs": [],
   "source": [
    "# instantiate model\n",
    "model = SELR(\n",
    "    max_iter=int(10**4),\n",
    "    time_types=['discrete', 'continuous'],\n",
    "    ignore_errors=True\n",
    "    )\n",
    "simple_model = SELR(\n",
    "    max_iter=int(10**4),\n",
    "    time_types=[],\n",
    "    ignore_errors=True\n",
    "    )"
   ]
  },
  {
   "cell_type": "code",
   "execution_count": 8,
   "metadata": {},
   "outputs": [
    {
     "name": "stdout",
     "output_type": "stream",
     "text": [
      "Initial parameters: [-1.89847405  0.24311241  0.02236461  0.00285138  0.1         0.01\n",
      "  0.1         0.01      ]\n",
      "`xtol` termination condition is satisfied.\n",
      "Number of iterations: 316, function evaluations: 316, CG iterations: 319, optimality: 1.32e+02, constraint violation: 0.00e+00, execution time:  4.8 s.\n",
      "Parameters: -1.87294251243889, [0.24772708 0.02573962 0.00240867], -0.06186007107335802, 0.23429008759864997, -0.053197527810982734, 0.23611655839378115\n",
      "Number of parameters: 8\n"
     ]
    }
   ],
   "source": [
    "model.fit(\n",
    "    times_all=times,\n",
    "    events_all=events,\n",
    "    individuals_all=individuals,\n",
    "    covariates_all=covariates\n",
    "    )"
   ]
  },
  {
   "cell_type": "code",
   "execution_count": 9,
   "metadata": {},
   "outputs": [
    {
     "name": "stdout",
     "output_type": "stream",
     "text": [
      "(-3, -1.87294251243889)\n",
      "([0.01, -0.05, 0.03], array([0.24772708, 0.02573962, 0.00240867]))\n",
      "(0, 0.23429008759864997)\n",
      "(0, 0.23611655839378115)\n",
      "(0, -0.06186007107335802)\n",
      "(0, -0.053197527810982734)\n"
     ]
    }
   ],
   "source": [
    "# compare true and estimated parameters\n",
    "true_params = [true_alpha, true_gamma, true_beta_c, true_delta_c, true_beta_s, true_delta_s]\n",
    "\n",
    "alpha, gamma, beta_s, beta_c, delta_s, delta_c = model.load_params()\n",
    "estimated_params = [alpha, gamma, beta_c, delta_c, beta_s, delta_s]\n",
    "\n",
    "for param_par in zip(true_params, estimated_params):\n",
    "    print(f'{param_par}')"
   ]
  },
  {
   "cell_type": "code",
   "execution_count": 10,
   "metadata": {},
   "outputs": [
    {
     "name": "stdout",
     "output_type": "stream",
     "text": [
      "LogisticRegression(penalty=None)\n",
      "Parameters: -1.8984740510799987, [0.24311240843373497, 0.022364606526990693, 0.002851378060717386], 0, 0, 0, 0\n",
      "Number of parameters: 4\n"
     ]
    }
   ],
   "source": [
    "simple_model.fit(\n",
    "    times_all=times,\n",
    "    events_all=events,\n",
    "    individuals_all=individuals,\n",
    "    covariates_all=covariates\n",
    "    )"
   ]
  },
  {
   "cell_type": "code",
   "execution_count": 11,
   "metadata": {},
   "outputs": [
    {
     "data": {
      "text/plain": [
       "-1.8984740510799987"
      ]
     },
     "execution_count": 11,
     "metadata": {},
     "output_type": "execute_result"
    }
   ],
   "source": [
    "simple_model.alpha"
   ]
  },
  {
   "cell_type": "code",
   "execution_count": 12,
   "metadata": {},
   "outputs": [],
   "source": [
    "from src.self_exciting.hawkes_regression import likelihood_ratio_test"
   ]
  },
  {
   "cell_type": "code",
   "execution_count": 13,
   "metadata": {},
   "outputs": [
    {
     "data": {
      "text/plain": [
       "8"
      ]
     },
     "execution_count": 13,
     "metadata": {},
     "output_type": "execute_result"
    }
   ],
   "source": [
    "model.n_params_"
   ]
  },
  {
   "cell_type": "code",
   "execution_count": 14,
   "metadata": {},
   "outputs": [
    {
     "data": {
      "text/plain": [
       "4"
      ]
     },
     "execution_count": 14,
     "metadata": {},
     "output_type": "execute_result"
    }
   ],
   "source": [
    "simple_model.n_params_"
   ]
  },
  {
   "cell_type": "code",
   "execution_count": 15,
   "metadata": {},
   "outputs": [
    {
     "data": {
      "text/plain": [
       "(False, 1.0, -14.70499852728426)"
      ]
     },
     "execution_count": 15,
     "metadata": {},
     "output_type": "execute_result"
    }
   ],
   "source": [
    "likelihood_ratio_test(fullmodel=model, submodel=simple_model)"
   ]
  },
  {
   "cell_type": "code",
   "execution_count": 16,
   "metadata": {},
   "outputs": [
    {
     "data": {
      "text/plain": [
       "1953.4505463613334"
      ]
     },
     "execution_count": 16,
     "metadata": {},
     "output_type": "execute_result"
    }
   ],
   "source": [
    "simple_model.nll_"
   ]
  },
  {
   "cell_type": "code",
   "execution_count": 17,
   "metadata": {},
   "outputs": [
    {
     "data": {
      "text/plain": [
       "1960.8030456249755"
      ]
     },
     "execution_count": 17,
     "metadata": {},
     "output_type": "execute_result"
    }
   ],
   "source": [
    "model.nll_"
   ]
  },
  {
   "cell_type": "code",
   "execution_count": 18,
   "metadata": {},
   "outputs": [],
   "source": [
    "from src.self_exciting.hawkes_regression import compute_gradients"
   ]
  },
  {
   "cell_type": "code",
   "execution_count": 24,
   "metadata": {},
   "outputs": [
    {
     "data": {
      "text/plain": [
       "array([0.24772708, 0.02573962, 0.00240867])"
      ]
     },
     "execution_count": 24,
     "metadata": {},
     "output_type": "execute_result"
    }
   ],
   "source": [
    "model.gamma.transpose()"
   ]
  },
  {
   "cell_type": "code",
   "execution_count": null,
   "metadata": {},
   "outputs": [
    {
     "data": {
      "text/plain": [
       "[-1.87294251243889,\n",
       " 0.24772708298964416,\n",
       " -0.06186007107335802,\n",
       " 0.23429008759864997,\n",
       " -0.053197527810982734,\n",
       " 0.23611655839378115]"
      ]
     },
     "execution_count": 34,
     "metadata": {},
     "output_type": "execute_result"
    }
   ],
   "source": [
    "params = [model.alpha, model.gamma[0], model.gamma[1], model.gamma[2], model.beta_c, model.delta_c, model.beta_s, model.delta_s]\n",
    "\n",
    "params"
   ]
  },
  {
   "cell_type": "code",
   "execution_count": null,
   "metadata": {},
   "outputs": [],
   "source": []
  },
  {
   "cell_type": "code",
   "execution_count": 20,
   "metadata": {},
   "outputs": [
    {
     "ename": "ValueError",
     "evalue": "shapes (5033,3) and (1,3) not aligned: 3 (dim 1) != 1 (dim 0)",
     "output_type": "error",
     "traceback": [
      "\u001b[0;31m---------------------------------------------------------------------------\u001b[0m",
      "\u001b[0;31mValueError\u001b[0m                                Traceback (most recent call last)",
      "Cell \u001b[0;32mIn[20], line 1\u001b[0m\n\u001b[0;32m----> 1\u001b[0m \u001b[43mcompute_gradients\u001b[49m\u001b[43m(\u001b[49m\n\u001b[1;32m      2\u001b[0m \u001b[43m    \u001b[49m\u001b[43mparams\u001b[49m\u001b[38;5;241;43m=\u001b[39;49m\u001b[43m[\u001b[49m\u001b[43mmodel\u001b[49m\u001b[38;5;241;43m.\u001b[39;49m\u001b[43malpha\u001b[49m\u001b[43m,\u001b[49m\u001b[43m \u001b[49m\u001b[43mmodel\u001b[49m\u001b[38;5;241;43m.\u001b[39;49m\u001b[43mgamma\u001b[49m\u001b[43m,\u001b[49m\u001b[43m \u001b[49m\u001b[43mmodel\u001b[49m\u001b[38;5;241;43m.\u001b[39;49m\u001b[43mbeta_c\u001b[49m\u001b[43m,\u001b[49m\u001b[43m \u001b[49m\u001b[43mmodel\u001b[49m\u001b[38;5;241;43m.\u001b[39;49m\u001b[43mdelta_c\u001b[49m\u001b[43m,\u001b[49m\u001b[43m \u001b[49m\u001b[43mmodel\u001b[49m\u001b[38;5;241;43m.\u001b[39;49m\u001b[43mbeta_s\u001b[49m\u001b[43m,\u001b[49m\u001b[43m \u001b[49m\u001b[43mmodel\u001b[49m\u001b[38;5;241;43m.\u001b[39;49m\u001b[43mdelta_s\u001b[49m\u001b[43m]\u001b[49m\u001b[43m,\u001b[49m\n\u001b[1;32m      3\u001b[0m \u001b[43m    \u001b[49m\u001b[43mevents_all\u001b[49m\u001b[38;5;241;43m=\u001b[39;49m\u001b[43mevents\u001b[49m\u001b[43m,\u001b[49m\n\u001b[1;32m      4\u001b[0m \u001b[43m    \u001b[49m\u001b[43mtimes_all\u001b[49m\u001b[38;5;241;43m=\u001b[39;49m\u001b[43mtimes\u001b[49m\u001b[43m,\u001b[49m\n\u001b[1;32m      5\u001b[0m \u001b[43m    \u001b[49m\u001b[43mcovariates_all\u001b[49m\u001b[38;5;241;43m=\u001b[39;49m\u001b[43mcovariates\u001b[49m\u001b[43m,\u001b[49m\n\u001b[1;32m      6\u001b[0m \u001b[43m    \u001b[49m\u001b[43mpositive_obs_in_groups_idx\u001b[49m\u001b[38;5;241;43m=\u001b[39;49m\u001b[43mmodel\u001b[49m\u001b[38;5;241;43m.\u001b[39;49m\u001b[43mcompute_time_series_groups_idx\u001b[49m\u001b[43m(\u001b[49m\n\u001b[1;32m      7\u001b[0m \u001b[43m        \u001b[49m\u001b[43mindividuals_all\u001b[49m\u001b[38;5;241;43m=\u001b[39;49m\u001b[43mindividuals\u001b[49m\u001b[43m,\u001b[49m\n\u001b[1;32m      8\u001b[0m \u001b[43m        \u001b[49m\u001b[43mevents_all\u001b[49m\u001b[38;5;241;43m=\u001b[39;49m\u001b[43mevents\u001b[49m\u001b[43m,\u001b[49m\n\u001b[1;32m      9\u001b[0m \u001b[43m        \u001b[49m\u001b[43m)\u001b[49m\u001b[43m,\u001b[49m\n\u001b[1;32m     10\u001b[0m \u001b[43m    \u001b[49m\u001b[43mtime_types\u001b[49m\u001b[38;5;241;43m=\u001b[39;49m\u001b[43mmodel\u001b[49m\u001b[38;5;241;43m.\u001b[39;49m\u001b[43mtime_types\u001b[49m\u001b[43m,\u001b[49m\n\u001b[1;32m     11\u001b[0m \u001b[43m    \u001b[49m\u001b[43mcompute_kernels\u001b[49m\u001b[38;5;241;43m=\u001b[39;49m\u001b[43mmodel\u001b[49m\u001b[38;5;241;43m.\u001b[39;49m\u001b[43mcompute_kernels\u001b[49m\n\u001b[1;32m     12\u001b[0m \u001b[43m    \u001b[49m\u001b[43m)\u001b[49m\n",
      "File \u001b[0;32m~/hawkes_partners/src/self_exciting/hawkes_regression.py:528\u001b[0m, in \u001b[0;36mcompute_gradients\u001b[0;34m(params, events_all, times_all, covariates_all, positive_obs_in_groups_idx, time_types, compute_kernels)\u001b[0m\n\u001b[1;32m    519\u001b[0m s, c \u001b[38;5;241m=\u001b[39m compute_kernels(\n\u001b[1;32m    520\u001b[0m     events_all\u001b[38;5;241m=\u001b[39mevents_all,\n\u001b[1;32m    521\u001b[0m     times_all\u001b[38;5;241m=\u001b[39mtimes_all,\n\u001b[0;32m   (...)\u001b[0m\n\u001b[1;32m    524\u001b[0m     positive_obs_in_groups_idx\u001b[38;5;241m=\u001b[39mpositive_obs_in_groups_idx\n\u001b[1;32m    525\u001b[0m     )\n\u001b[1;32m    527\u001b[0m \u001b[38;5;66;03m# Compute linear predictor\u001b[39;00m\n\u001b[0;32m--> 528\u001b[0m linear_pred \u001b[38;5;241m=\u001b[39m alpha \u001b[38;5;241m+\u001b[39m \u001b[43mnp\u001b[49m\u001b[38;5;241;43m.\u001b[39;49m\u001b[43mdot\u001b[49m\u001b[43m(\u001b[49m\u001b[43mcovariates_all\u001b[49m\u001b[43m,\u001b[49m\u001b[43m \u001b[49m\u001b[43mgamma\u001b[49m\u001b[43m)\u001b[49m\n\u001b[1;32m    529\u001b[0m \u001b[38;5;28;01mif\u001b[39;00m \u001b[38;5;124m'\u001b[39m\u001b[38;5;124mcontinuous\u001b[39m\u001b[38;5;124m'\u001b[39m \u001b[38;5;129;01min\u001b[39;00m time_types:\n\u001b[1;32m    530\u001b[0m     linear_pred \u001b[38;5;241m+\u001b[39m\u001b[38;5;241m=\u001b[39m beta_c \u001b[38;5;241m*\u001b[39m c\n",
      "\u001b[0;31mValueError\u001b[0m: shapes (5033,3) and (1,3) not aligned: 3 (dim 1) != 1 (dim 0)"
     ]
    }
   ],
   "source": [
    "compute_gradients(\n",
    "    params=[model.alpha, model.gamma, model.beta_c, model.delta_c, model.beta_s, model.delta_s],\n",
    "    events_all=events,\n",
    "    times_all=times,\n",
    "    covariates_all=covariates,\n",
    "    positive_obs_in_groups_idx=model.compute_time_series_groups_idx(\n",
    "        individuals_all=individuals,\n",
    "        events_all=events,\n",
    "        ),\n",
    "    time_types=model.time_types,\n",
    "    compute_kernels=model.compute_kernels\n",
    "    )"
   ]
  },
  {
   "cell_type": "code",
   "execution_count": null,
   "metadata": {},
   "outputs": [],
   "source": []
  }
 ],
 "metadata": {
  "kernelspec": {
   "display_name": "hawkes_partners",
   "language": "python",
   "name": "python3"
  },
  "language_info": {
   "codemirror_mode": {
    "name": "ipython",
    "version": 3
   },
   "file_extension": ".py",
   "mimetype": "text/x-python",
   "name": "python",
   "nbconvert_exporter": "python",
   "pygments_lexer": "ipython3",
   "version": "3.10.15"
  }
 },
 "nbformat": 4,
 "nbformat_minor": 2
}
