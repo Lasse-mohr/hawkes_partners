{
 "cells": [
  {
   "cell_type": "code",
   "execution_count": 1,
   "metadata": {},
   "outputs": [],
   "source": [
    "# change pwd to parent directory\n",
    "import os\n",
    "\n",
    "cwd = os.getcwd()\n",
    "os.chdir(os.path.dirname(cwd))"
   ]
  },
  {
   "cell_type": "code",
   "execution_count": 35,
   "metadata": {},
   "outputs": [],
   "source": [
    "import numpy as np\n",
    "from scipy.special import expit\n",
    "from src.self_exciting.hawkes_regression import SelfExcitingLogisticRegressionWithGrad as SELR\n",
    "from src.self_exciting.hawkes_regression import compute_time_series_groups_idx"
   ]
  },
  {
   "cell_type": "code",
   "execution_count": 41,
   "metadata": {},
   "outputs": [],
   "source": [
    "continuous_time = [\n",
    "    [0, 0.1, 0.2, 0.3],\n",
    "    [0, 0.1, 0.2, 0.3]\n",
    "    ]\n",
    "discrete_time = [\n",
    "    [0,1,2,3],\n",
    "    [0,1,2,3]\n",
    "    ]\n",
    "events = [\n",
    "    [1,0,0,1],\n",
    "    [1,0,0,1]\n",
    "    ]\n",
    "covariates = [\n",
    "    [0, 0, 0],\n",
    "    [0, 0, 0],\n",
    "    [0, 0, 0],\n",
    "    [0, 0, 0],\n",
    "    [0, 0, 0],\n",
    "    [0, 0, 0],\n",
    "    [0, 0, 0],\n",
    "    [0, 0, 0]\n",
    "]\n",
    "individuals = [1,1,1,1] + [2,2,2,2]\n",
    "\n",
    "# Combine all individuals' data\n",
    "continuous_time = np.concatenate(continuous_time)\n",
    "discrete_time = np.concatenate(discrete_time)\n",
    "events = np.concatenate(events)\n",
    "covariates = np.vstack(covariates)\n",
    "times = np.vstack([continuous_time, discrete_time])"
   ]
  },
  {
   "cell_type": "code",
   "execution_count": 52,
   "metadata": {},
   "outputs": [
    {
     "name": "stdout",
     "output_type": "stream",
     "text": [
      "[[0, 3], [4, 7]]\n"
     ]
    }
   ],
   "source": [
    "# instantiate model\n",
    "model = SELR(\n",
    "    max_iter=int(10**4),\n",
    "    time_types=['discrete', 'continuous'],\n",
    "    ignore_errors=False\n",
    "    )\n",
    "\n",
    "positive_obs_in_groups_idx = compute_time_series_groups_idx(events_all=events, individuals_all=individuals)\n",
    "print(positive_obs_in_groups_idx)\n",
    "params = np.array([-3,\n",
    "                   0.0, 0.0, 0.0,\n",
    "                   1, -1, \n",
    "                   1, -1\n",
    "                   ])"
   ]
  },
  {
   "cell_type": "code",
   "execution_count": 53,
   "metadata": {},
   "outputs": [
    {
     "data": {
      "text/plain": [
       "6.29152364544813"
      ]
     },
     "execution_count": 53,
     "metadata": {},
     "output_type": "execute_result"
    }
   ],
   "source": [
    "model.log_likelihood(\n",
    "    params=params,\n",
    "    events_all=events,\n",
    "    times_all=times,\n",
    "    covariates_all=covariates,\n",
    "    positive_obs_in_groups_idx=positive_obs_in_groups_idx\n",
    "    )"
   ]
  },
  {
   "cell_type": "code",
   "execution_count": 54,
   "metadata": {},
   "outputs": [
    {
     "name": "stdout",
     "output_type": "stream",
     "text": [
      "Initial parameters: [0.   0.   0.   0.   0.1  0.01 0.1  0.01]\n"
     ]
    },
    {
     "name": "stderr",
     "output_type": "stream",
     "text": [
      "/opt/anaconda3/envs/hawkes_partners/lib/python3.10/site-packages/scipy/optimize/_differentiable_functions.py:316: UserWarning: delta_grad == 0.0. Check if the approximated function is linear. If the function is linear better results can be obtained by defining the Hessian as zero instead of using quasi-Newton approximations.\n",
      "  self.H.update(self.x - self.x_prev, self.g - self.g_prev)\n"
     ]
    },
    {
     "name": "stdout",
     "output_type": "stream",
     "text": [
      "`xtol` termination condition is satisfied.\n",
      "Number of iterations: 320, function evaluations: 326, CG iterations: 348, optimality: 1.12e+00, constraint violation: 0.00e+00, execution time: 0.31 s.\n",
      "Parameters: 0.02338581671299324, [0. 0. 0.], -0.5102179402908054, 0.4012911002362679, -0.38904693793859163, 0.4149241676991167\n",
      "Number of parameters: 8\n"
     ]
    }
   ],
   "source": [
    "model.fit(\n",
    "    times_all=times,\n",
    "    events_all=events,\n",
    "    individuals_all=individuals,\n",
    "    covariates_all=covariates\n",
    "    )"
   ]
  },
  {
   "cell_type": "code",
   "execution_count": null,
   "metadata": {},
   "outputs": [],
   "source": []
  },
  {
   "cell_type": "code",
   "execution_count": 7,
   "metadata": {},
   "outputs": [
    {
     "name": "stdout",
     "output_type": "stream",
     "text": [
      "Parameters: -0.6931457821705919, [0. 0. 0.], 8.54892490463241, 1e-10, 8.627743276347546, 1e-10\n",
      "Number of parameters: 8\n"
     ]
    }
   ],
   "source": [
    "model.fit(\n",
    "    times_all=times,\n",
    "    events_all=events,\n",
    "    individuals_all=individuals,\n",
    "    covariates_all=covariates\n",
    "    )"
   ]
  }
 ],
 "metadata": {
  "kernelspec": {
   "display_name": "hawkes_partners",
   "language": "python",
   "name": "python3"
  },
  "language_info": {
   "codemirror_mode": {
    "name": "ipython",
    "version": 3
   },
   "file_extension": ".py",
   "mimetype": "text/x-python",
   "name": "python",
   "nbconvert_exporter": "python",
   "pygments_lexer": "ipython3",
   "version": "3.10.15"
  }
 },
 "nbformat": 4,
 "nbformat_minor": 2
}
